{
 "cells": [
  {
   "cell_type": "markdown",
   "metadata": {},
   "source": [
    "### 构建卷积神经网络\n",
    "- 卷积网络中的输入和层与传统神经网络有些区别，需重新设计，训练模块基本一致"
   ]
  },
  {
   "cell_type": "code",
   "execution_count": 7,
   "metadata": {
    "collapsed": true
   },
   "outputs": [],
   "source": [
    "import torch\n",
    "import torch.nn as nn\n",
    "import torch.optim as optim\n",
    "import torch.nn.functional as F\n",
    "from torchvision import datasets,transforms \n",
    "import matplotlib.pyplot as plt\n",
    "import numpy as np\n",
    "%matplotlib inline"
   ]
  },
  {
   "cell_type": "markdown",
   "metadata": {},
   "source": [
    "### 首先读取数据\n",
    "- 分别构建训练集和测试集（验证集）\n",
    "- DataLoader来迭代取数据"
   ]
  },
  {
   "cell_type": "code",
   "execution_count": 8,
   "metadata": {
    "collapsed": true
   },
   "outputs": [],
   "source": [
    "# 定义超参数 \n",
    "input_size = 28  #图像的总尺寸28*28\n",
    "num_classes = 10  #标签的种类数\n",
    "num_epochs = 3  #训练的总循环周期\n",
    "batch_size = 64  #一个撮（批次）的大小，64张图片\n",
    "\n",
    "# 训练集\n",
    "train_dataset = datasets.MNIST(root='./data',  \n",
    "                            train=True,   \n",
    "                            transform=transforms.ToTensor(),  \n",
    "                            download=True) \n",
    "\n",
    "# 测试集\n",
    "test_dataset = datasets.MNIST(root='./data', \n",
    "                           train=False, \n",
    "                           transform=transforms.ToTensor())\n",
    "\n",
    "# 构建batch数据\n",
    "train_loader = torch.utils.data.DataLoader(dataset=train_dataset, \n",
    "                                           batch_size=batch_size, \n",
    "                                           shuffle=True)\n",
    "test_loader = torch.utils.data.DataLoader(dataset=test_dataset, \n",
    "                                           batch_size=batch_size, \n",
    "                                           shuffle=True)"
   ]
  },
  {
   "cell_type": "markdown",
   "metadata": {},
   "source": [
    "### 卷积网络模块构建\n",
    "- 一般卷积层，relu层，池化层可以写成一个套餐\n",
    "- 注意卷积最后结果还是一个特征图，需要把图转换成向量才能做分类或者回归任务"
   ]
  },
  {
   "cell_type": "code",
   "execution_count": 9,
   "metadata": {
    "collapsed": true
   },
   "outputs": [],
   "source": [
    "class CNN(nn.Module):\n",
    "    def __init__(self):\n",
    "        super(CNN, self).__init__()\n",
    "        self.conv1 = nn.Sequential(         # 输入大小 (1, 28, 28)\n",
    "            nn.Conv2d(\n",
    "                in_channels=1,              # 灰度图\n",
    "                out_channels=16,            # 要得到几多少个特征图\n",
    "                kernel_size=5,              # 卷积核大小\n",
    "                stride=1,                   # 步长\n",
    "                padding=2,                  # 如果希望卷积后大小跟原来一样，需要设置padding=(kernel_size-1)/2 if stride=1\n",
    "            ),                              # 输出的特征图为 (16, 28, 28)\n",
    "            nn.ReLU(),                      # relu层\n",
    "            nn.MaxPool2d(kernel_size=2),    # 进行池化操作（2x2 区域）, 输出结果为： (16, 14, 14)\n",
    "        )\n",
    "        self.conv2 = nn.Sequential(         # 下一个套餐的输入 (16, 14, 14)\n",
    "            nn.Conv2d(16, 32, 5, 1, 2),     # 输出 (32, 14, 14)\n",
    "            nn.ReLU(),                      # relu层\n",
    "            nn.MaxPool2d(2),                # 输出 (32, 7, 7)\n",
    "        )\n",
    "        self.out = nn.Linear(32 * 7 * 7, 10)   # 全连接层得到的结果\n",
    "\n",
    "    def forward(self, x):\n",
    "        x = self.conv1(x)\n",
    "        x = self.conv2(x)\n",
    "        x = x.view(x.size(0), -1)           # flatten操作，结果为：(batch_size, 32 * 7 * 7)\n",
    "        output = self.out(x)\n",
    "        return output"
   ]
  },
  {
   "cell_type": "markdown",
   "metadata": {},
   "source": [
    "### 准确率作为评估标准"
   ]
  },
  {
   "cell_type": "code",
   "execution_count": 10,
   "metadata": {
    "collapsed": true
   },
   "outputs": [],
   "source": [
    "def accuracy(predictions, labels):\n",
    "    pred = torch.max(predictions.data, 1)[1] \n",
    "    rights = pred.eq(labels.data.view_as(pred)).sum() \n",
    "    return rights, len(labels) "
   ]
  },
  {
   "cell_type": "markdown",
   "metadata": {},
   "source": [
    "### 训练网络模型"
   ]
  },
  {
   "cell_type": "code",
   "execution_count": 11,
   "metadata": {},
   "outputs": [
    {
     "name": "stdout",
     "output_type": "stream",
     "text": [
      "当前epoch: 0 [0/60000 (0%)]\t损失: 2.298275\t训练集准确率: 18.75%\t测试集正确率: 16.69%\n",
      "当前epoch: 0 [6400/60000 (11%)]\t损失: 0.366936\t训练集准确率: 77.09%\t测试集正确率: 91.76%\n",
      "当前epoch: 0 [12800/60000 (21%)]\t损失: 0.197412\t训练集准确率: 85.04%\t测试集正确率: 95.32%\n",
      "当前epoch: 0 [19200/60000 (32%)]\t损失: 0.065437\t训练集准确率: 88.57%\t测试集正确率: 95.96%\n",
      "当前epoch: 0 [25600/60000 (43%)]\t损失: 0.245751\t训练集准确率: 90.43%\t测试集正确率: 97.05%\n",
      "当前epoch: 0 [32000/60000 (53%)]\t损失: 0.116508\t训练集准确率: 91.65%\t测试集正确率: 97.33%\n",
      "当前epoch: 0 [38400/60000 (64%)]\t损失: 0.106026\t训练集准确率: 92.51%\t测试集正确率: 97.47%\n",
      "当前epoch: 0 [44800/60000 (75%)]\t损失: 0.024781\t训练集准确率: 93.20%\t测试集正确率: 97.79%\n",
      "当前epoch: 0 [51200/60000 (85%)]\t损失: 0.040254\t训练集准确率: 93.77%\t测试集正确率: 97.44%\n",
      "当前epoch: 0 [57600/60000 (96%)]\t损失: 0.013604\t训练集准确率: 94.19%\t测试集正确率: 97.57%\n",
      "当前epoch: 1 [0/60000 (0%)]\t损失: 0.038379\t训练集准确率: 100.00%\t测试集正确率: 97.90%\n",
      "当前epoch: 1 [6400/60000 (11%)]\t损失: 0.091921\t训练集准确率: 97.94%\t测试集正确率: 98.26%\n",
      "当前epoch: 1 [12800/60000 (21%)]\t损失: 0.082685\t训练集准确率: 97.88%\t测试集正确率: 98.12%\n",
      "当前epoch: 1 [19200/60000 (32%)]\t损失: 0.030613\t训练集准确率: 97.95%\t测试集正确率: 98.53%\n",
      "当前epoch: 1 [25600/60000 (43%)]\t损失: 0.098491\t训练集准确率: 97.96%\t测试集正确率: 98.30%\n",
      "当前epoch: 1 [32000/60000 (53%)]\t损失: 0.078065\t训练集准确率: 97.97%\t测试集正确率: 98.50%\n",
      "当前epoch: 1 [38400/60000 (64%)]\t损失: 0.013370\t训练集准确率: 98.02%\t测试集正确率: 98.55%\n",
      "当前epoch: 1 [44800/60000 (75%)]\t损失: 0.065581\t训练集准确率: 98.09%\t测试集正确率: 98.65%\n",
      "当前epoch: 1 [51200/60000 (85%)]\t损失: 0.077535\t训练集准确率: 98.12%\t测试集正确率: 98.23%\n",
      "当前epoch: 1 [57600/60000 (96%)]\t损失: 0.007826\t训练集准确率: 98.16%\t测试集正确率: 98.65%\n",
      "当前epoch: 2 [0/60000 (0%)]\t损失: 0.170131\t训练集准确率: 98.44%\t测试集正确率: 98.57%\n",
      "当前epoch: 2 [6400/60000 (11%)]\t损失: 0.046841\t训练集准确率: 98.64%\t测试集正确率: 98.40%\n",
      "当前epoch: 2 [12800/60000 (21%)]\t损失: 0.095354\t训练集准确率: 98.50%\t测试集正确率: 98.58%\n",
      "当前epoch: 2 [19200/60000 (32%)]\t损失: 0.009594\t训练集准确率: 98.58%\t测试集正确率: 98.68%\n",
      "当前epoch: 2 [25600/60000 (43%)]\t损失: 0.017973\t训练集准确率: 98.62%\t测试集正确率: 98.82%\n",
      "当前epoch: 2 [32000/60000 (53%)]\t损失: 0.045781\t训练集准确率: 98.66%\t测试集正确率: 98.63%\n",
      "当前epoch: 2 [38400/60000 (64%)]\t损失: 0.056535\t训练集准确率: 98.65%\t测试集正确率: 98.94%\n",
      "当前epoch: 2 [44800/60000 (75%)]\t损失: 0.014779\t训练集准确率: 98.66%\t测试集正确率: 98.97%\n",
      "当前epoch: 2 [51200/60000 (85%)]\t损失: 0.010532\t训练集准确率: 98.71%\t测试集正确率: 98.50%\n",
      "当前epoch: 2 [57600/60000 (96%)]\t损失: 0.076463\t训练集准确率: 98.68%\t测试集正确率: 98.79%\n"
     ]
    }
   ],
   "source": [
    "# 实例化\n",
    "net = CNN() \n",
    "#损失函数\n",
    "criterion = nn.CrossEntropyLoss() \n",
    "#优化器\n",
    "optimizer = optim.Adam(net.parameters(), lr=0.001) #定义优化器，普通的随机梯度下降算法\n",
    "\n",
    "#开始训练循环\n",
    "for epoch in range(num_epochs):\n",
    "    #当前epoch的结果保存下来\n",
    "    train_rights = [] \n",
    "    \n",
    "    for batch_idx, (data, target) in enumerate(train_loader):  #针对容器中的每一个批进行循环\n",
    "        net.train()                             \n",
    "        output = net(data) \n",
    "        loss = criterion(output, target) \n",
    "        optimizer.zero_grad() \n",
    "        loss.backward() \n",
    "        optimizer.step() \n",
    "        right = accuracy(output, target) \n",
    "        train_rights.append(right) \n",
    "\n",
    "    \n",
    "        if batch_idx % 100 == 0: \n",
    "            \n",
    "            net.eval() \n",
    "            val_rights = [] \n",
    "            \n",
    "            for (data, target) in test_loader:\n",
    "                output = net(data) \n",
    "                right = accuracy(output, target) \n",
    "                val_rights.append(right)\n",
    "                \n",
    "            #准确率计算\n",
    "            train_r = (sum([tup[0] for tup in train_rights]), sum([tup[1] for tup in train_rights]))\n",
    "            val_r = (sum([tup[0] for tup in val_rights]), sum([tup[1] for tup in val_rights]))\n",
    "\n",
    "            print('当前epoch: {} [{}/{} ({:.0f}%)]\\t损失: {:.6f}\\t训练集准确率: {:.2f}%\\t测试集正确率: {:.2f}%'.format(\n",
    "                epoch, batch_idx * batch_size, len(train_loader.dataset),\n",
    "                100. * batch_idx / len(train_loader), \n",
    "                loss.data, \n",
    "                100. * train_r[0].numpy() / train_r[1], \n",
    "                100. * val_r[0].numpy() / val_r[1]))"
   ]
  },
  {
   "cell_type": "code",
   "execution_count": null,
   "metadata": {
    "collapsed": true
   },
   "outputs": [],
   "source": []
  },
  {
   "cell_type": "code",
   "execution_count": null,
   "metadata": {
    "collapsed": true
   },
   "outputs": [],
   "source": []
  }
 ],
 "metadata": {
  "kernelspec": {
   "display_name": "Python 3",
   "language": "python",
   "name": "python3"
  },
  "language_info": {
   "codemirror_mode": {
    "name": "ipython",
    "version": 3
   },
   "file_extension": ".py",
   "mimetype": "text/x-python",
   "name": "python",
   "nbconvert_exporter": "python",
   "pygments_lexer": "ipython3",
   "version": "3.6.3"
  }
 },
 "nbformat": 4,
 "nbformat_minor": 2
}
